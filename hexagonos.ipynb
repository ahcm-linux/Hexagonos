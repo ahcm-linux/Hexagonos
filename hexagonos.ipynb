{
 "cells": [
  {
   "cell_type": "markdown",
   "metadata": {},
   "source": [
    "## Algoritmo para detectar hexágonos em imagem:\n",
    "\n",
    "1. Carregar a imagem\n",
    "2. Redimensionar a imagem, aplicando-se um fator de redução\n",
    "3. Converter a imagem para escala de cinza\n",
    "4. Introduzir _blur_ gaussiano para reduzir ruídos na imagem\n",
    "5. Fazer segmentação da imagem utilizando _thresholding_\n",
    "6. Fazer aproximação de contorno (_contour approximation_) utilizando o algoritmo de __Ramer–Douglas–Peucker__\n",
    "7. Identificar as figuras com contorno aproximado por exatamente 6 segmentos\n",
    "8. Para as figuras identificadas no passo __7__, calcular os momentos das imagens (_image moments_) e obter os perímetros e as áreas dos seus respectivos contornos\n",
    "9. Com os perímetros obtidos no passo __8__, calcular $\\frac{3\\sqrt{3}}{2}(\\frac{\\text{perímetro}}{6})^2$ (correspondente à área do hexágono)\n",
    "10. Utilizando os resultdos dos passos __8__ e __9__, calcular a razão $r = (\\text{área do contorno}) / (\\text{área do hexágono})$\n",
    "11. Classificar como hexágono as figuras que verificarem as condições seguintes:\n",
    "    * possuir contorno aproximado com exatamente 6 segmentos\n",
    "    * possuir valor da razão $r$ tal que $0.90 \\leq r \\leq 1.10$ "
   ]
  },
  {
   "cell_type": "code",
   "execution_count": null,
   "metadata": {},
   "outputs": [],
   "source": [
    "import imutils\n",
    "import cv2\n",
    "import math"
   ]
  },
  {
   "cell_type": "code",
   "execution_count": 51,
   "metadata": {},
   "outputs": [],
   "source": [
    "class Hexagon():\n",
    "  def find(self, contour):\n",
    "    arc = cv2.arcLength(contour, True)\n",
    "    polyg = cv2.approxPolyDP(contour, 0.04 * arc, True)\n",
    "\n",
    "    area = cv2.contourArea(contour)\n",
    "    area_hex = ((arc / 6)**2) * 3 * math.sqrt(3) / 2\n",
    "    r = area / area_hex\n",
    "\n",
    "    if len(polyg) == 6:\n",
    "     print('Hexagono dectectado -> l=', len(polyg), ' r=', r)\n",
    "\n",
    "    hex = True if (len(polyg) == 6) and (r >= 0.9) and (r <= 1.1) else False\n",
    "\n",
    "    return hex, arc"
   ]
  },
  {
   "cell_type": "code",
   "execution_count": 52,
   "metadata": {},
   "outputs": [],
   "source": [
    "im = cv2.imread('./poligonos.png')\n",
    "\n",
    "im_res = imutils.resize(im, width=300)\n",
    "ratio = im.shape[0] / float(im_res.shape[0])\n",
    "\n",
    "im_grey = cv2.cvtColor(im_res, cv2.COLOR_BGR2GRAY)\n",
    "im_grey_blur = cv2.GaussianBlur(im_grey, (5, 5), 0)\n",
    "_, im_grey_blur_thr = cv2.threshold(im_grey_blur, 200, 255, cv2.THRESH_BINARY_INV)"
   ]
  },
  {
   "cell_type": "code",
   "execution_count": 53,
   "metadata": {},
   "outputs": [],
   "source": [
    "contours = cv2.findContours(im_grey_blur_thr.copy(), cv2.RETR_EXTERNAL, cv2.CHAIN_APPROX_SIMPLE)\n",
    "contours = imutils.grab_contours(contours)"
   ]
  },
  {
   "cell_type": "code",
   "execution_count": 54,
   "metadata": {},
   "outputs": [
    {
     "name": "stdout",
     "output_type": "stream",
     "text": [
      "Hexagono dectectado -> l= 6  r= 0.9174674013579696\n"
     ]
    }
   ],
   "source": [
    "hexagon = Hexagon()\n",
    "\n",
    "for i in contours:\n",
    "  is_hex, arc_hex = hexagon.find(i)\n",
    "\n",
    "  if is_hex:\n",
    "    mu = cv2.moments(i)\n",
    "    x = int((mu['m10'] / mu['m00']) * ratio)\n",
    "    y = int((mu['m01'] / mu['m00']) * ratio)\n",
    "\n",
    "    i = i.astype('float')\n",
    "    i *= ratio\n",
    "    i = i.astype('int')\n",
    "\n",
    "    cv2.drawContours(im, [i], -1, (0, 0, 255), 2)\n",
    "    text = 'arc=%d' % round(arc_hex * ratio, 2)\n",
    "    cv2.putText(im, text, (x, y), cv2.FONT_HERSHEY_SIMPLEX, 0.5, (0, 0, 255), 2)\n",
    "    cv2.imshow('Im', im)\n",
    "    cv2.waitKey(0)"
   ]
  },
  {
   "cell_type": "code",
   "execution_count": 55,
   "metadata": {},
   "outputs": [],
   "source": [
    "cv2.destroyAllWindows()"
   ]
  }
 ],
 "metadata": {
  "interpreter": {
   "hash": "e7370f93d1d0cde622a1f8e1c04877d8463912d04d973331ad4851f04de6915a"
  },
  "kernelspec": {
   "display_name": "Python 3.9.2 64-bit",
   "name": "python3"
  },
  "language_info": {
   "codemirror_mode": {
    "name": "ipython",
    "version": 3
   },
   "file_extension": ".py",
   "mimetype": "text/x-python",
   "name": "python",
   "nbconvert_exporter": "python",
   "pygments_lexer": "ipython3",
   "version": "3.9.2"
  },
  "orig_nbformat": 4
 },
 "nbformat": 4,
 "nbformat_minor": 2
}